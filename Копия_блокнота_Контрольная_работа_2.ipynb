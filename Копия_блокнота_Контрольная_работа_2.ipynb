{
  "nbformat": 4,
  "nbformat_minor": 0,
  "metadata": {
    "kernelspec": {
      "display_name": "Python 3",
      "language": "python",
      "name": "python3"
    },
    "language_info": {
      "codemirror_mode": {
        "name": "ipython",
        "version": 3
      },
      "file_extension": ".py",
      "mimetype": "text/x-python",
      "name": "python",
      "nbconvert_exporter": "python",
      "pygments_lexer": "ipython3",
      "version": "3.6.5"
    },
    "toc": {
      "base_numbering": 1,
      "nav_menu": {},
      "number_sections": true,
      "sideBar": true,
      "skip_h1_title": false,
      "title_cell": "Table of Contents",
      "title_sidebar": "Contents",
      "toc_cell": false,
      "toc_position": {},
      "toc_section_display": true,
      "toc_window_display": false
    },
    "colab": {
      "name": "Копия_блокнота_Контрольная_работа_2.ipynb",
      "provenance": [],
      "collapsed_sections": [],
      "include_colab_link": true
    },
    "accelerator": "GPU",
    "widgets": {
      "application/vnd.jupyter.widget-state+json": {
        "881464b057db4204be3a78503cdb47a4": {
          "model_module": "@jupyter-widgets/controls",
          "model_name": "HBoxModel",
          "state": {
            "_view_name": "HBoxView",
            "_dom_classes": [],
            "_model_name": "HBoxModel",
            "_view_module": "@jupyter-widgets/controls",
            "_model_module_version": "1.5.0",
            "_view_count": null,
            "_view_module_version": "1.5.0",
            "box_style": "",
            "layout": "IPY_MODEL_e7470dfc469c4748a5ed9f8970738a2e",
            "_model_module": "@jupyter-widgets/controls",
            "children": [
              "IPY_MODEL_dda1c0c9822d43a085d91c9378e490aa",
              "IPY_MODEL_1f05864983334474a627e677bb382af0"
            ]
          },
          "model_module_version": "1.5.0"
        },
        "e7470dfc469c4748a5ed9f8970738a2e": {
          "model_module": "@jupyter-widgets/base",
          "model_name": "LayoutModel",
          "state": {
            "_view_name": "LayoutView",
            "grid_template_rows": null,
            "right": null,
            "justify_content": null,
            "_view_module": "@jupyter-widgets/base",
            "overflow": null,
            "_model_module_version": "1.2.0",
            "_view_count": null,
            "flex_flow": null,
            "width": null,
            "min_width": null,
            "border": null,
            "align_items": null,
            "bottom": null,
            "_model_module": "@jupyter-widgets/base",
            "top": null,
            "grid_column": null,
            "overflow_y": null,
            "overflow_x": null,
            "grid_auto_flow": null,
            "grid_area": null,
            "grid_template_columns": null,
            "flex": null,
            "_model_name": "LayoutModel",
            "justify_items": null,
            "grid_row": null,
            "max_height": null,
            "align_content": null,
            "visibility": null,
            "align_self": null,
            "height": null,
            "min_height": null,
            "padding": null,
            "grid_auto_rows": null,
            "grid_gap": null,
            "max_width": null,
            "order": null,
            "_view_module_version": "1.2.0",
            "grid_template_areas": null,
            "object_position": null,
            "object_fit": null,
            "grid_auto_columns": null,
            "margin": null,
            "display": null,
            "left": null
          },
          "model_module_version": "1.2.0"
        },
        "dda1c0c9822d43a085d91c9378e490aa": {
          "model_module": "@jupyter-widgets/controls",
          "model_name": "FloatProgressModel",
          "state": {
            "_view_name": "ProgressView",
            "style": "IPY_MODEL_716a32f1824a4691afeda5926d808e3c",
            "_dom_classes": [],
            "description": "100%",
            "_model_name": "FloatProgressModel",
            "bar_style": "success",
            "max": 10000,
            "_view_module": "@jupyter-widgets/controls",
            "_model_module_version": "1.5.0",
            "value": 10000,
            "_view_count": null,
            "_view_module_version": "1.5.0",
            "orientation": "horizontal",
            "min": 0,
            "description_tooltip": null,
            "_model_module": "@jupyter-widgets/controls",
            "layout": "IPY_MODEL_06899cd4a9cf4bd5bed1c67176b6d318"
          },
          "model_module_version": "1.5.0"
        },
        "1f05864983334474a627e677bb382af0": {
          "model_module": "@jupyter-widgets/controls",
          "model_name": "HTMLModel",
          "state": {
            "_view_name": "HTMLView",
            "style": "IPY_MODEL_0334edd693c5406aa99938ec88170ede",
            "_dom_classes": [],
            "description": "",
            "_model_name": "HTMLModel",
            "placeholder": "​",
            "_view_module": "@jupyter-widgets/controls",
            "_model_module_version": "1.5.0",
            "value": " 10000/10000 [01:26&lt;00:00, 115.41it/s]",
            "_view_count": null,
            "_view_module_version": "1.5.0",
            "description_tooltip": null,
            "_model_module": "@jupyter-widgets/controls",
            "layout": "IPY_MODEL_6bffc27ac95740e6aa4de24b919cc56c"
          },
          "model_module_version": "1.5.0"
        },
        "716a32f1824a4691afeda5926d808e3c": {
          "model_module": "@jupyter-widgets/controls",
          "model_name": "ProgressStyleModel",
          "state": {
            "_view_name": "StyleView",
            "_model_name": "ProgressStyleModel",
            "description_width": "initial",
            "_view_module": "@jupyter-widgets/base",
            "_model_module_version": "1.5.0",
            "_view_count": null,
            "_view_module_version": "1.2.0",
            "bar_color": null,
            "_model_module": "@jupyter-widgets/controls"
          },
          "model_module_version": "1.5.0"
        },
        "06899cd4a9cf4bd5bed1c67176b6d318": {
          "model_module": "@jupyter-widgets/base",
          "model_name": "LayoutModel",
          "state": {
            "_view_name": "LayoutView",
            "grid_template_rows": null,
            "right": null,
            "justify_content": null,
            "_view_module": "@jupyter-widgets/base",
            "overflow": null,
            "_model_module_version": "1.2.0",
            "_view_count": null,
            "flex_flow": null,
            "width": null,
            "min_width": null,
            "border": null,
            "align_items": null,
            "bottom": null,
            "_model_module": "@jupyter-widgets/base",
            "top": null,
            "grid_column": null,
            "overflow_y": null,
            "overflow_x": null,
            "grid_auto_flow": null,
            "grid_area": null,
            "grid_template_columns": null,
            "flex": null,
            "_model_name": "LayoutModel",
            "justify_items": null,
            "grid_row": null,
            "max_height": null,
            "align_content": null,
            "visibility": null,
            "align_self": null,
            "height": null,
            "min_height": null,
            "padding": null,
            "grid_auto_rows": null,
            "grid_gap": null,
            "max_width": null,
            "order": null,
            "_view_module_version": "1.2.0",
            "grid_template_areas": null,
            "object_position": null,
            "object_fit": null,
            "grid_auto_columns": null,
            "margin": null,
            "display": null,
            "left": null
          },
          "model_module_version": "1.2.0"
        },
        "0334edd693c5406aa99938ec88170ede": {
          "model_module": "@jupyter-widgets/controls",
          "model_name": "DescriptionStyleModel",
          "state": {
            "_view_name": "StyleView",
            "_model_name": "DescriptionStyleModel",
            "description_width": "",
            "_view_module": "@jupyter-widgets/base",
            "_model_module_version": "1.5.0",
            "_view_count": null,
            "_view_module_version": "1.2.0",
            "_model_module": "@jupyter-widgets/controls"
          },
          "model_module_version": "1.5.0"
        },
        "6bffc27ac95740e6aa4de24b919cc56c": {
          "model_module": "@jupyter-widgets/base",
          "model_name": "LayoutModel",
          "state": {
            "_view_name": "LayoutView",
            "grid_template_rows": null,
            "right": null,
            "justify_content": null,
            "_view_module": "@jupyter-widgets/base",
            "overflow": null,
            "_model_module_version": "1.2.0",
            "_view_count": null,
            "flex_flow": null,
            "width": null,
            "min_width": null,
            "border": null,
            "align_items": null,
            "bottom": null,
            "_model_module": "@jupyter-widgets/base",
            "top": null,
            "grid_column": null,
            "overflow_y": null,
            "overflow_x": null,
            "grid_auto_flow": null,
            "grid_area": null,
            "grid_template_columns": null,
            "flex": null,
            "_model_name": "LayoutModel",
            "justify_items": null,
            "grid_row": null,
            "max_height": null,
            "align_content": null,
            "visibility": null,
            "align_self": null,
            "height": null,
            "min_height": null,
            "padding": null,
            "grid_auto_rows": null,
            "grid_gap": null,
            "max_width": null,
            "order": null,
            "_view_module_version": "1.2.0",
            "grid_template_areas": null,
            "object_position": null,
            "object_fit": null,
            "grid_auto_columns": null,
            "margin": null,
            "display": null,
            "left": null
          },
          "model_module_version": "1.2.0"
        }
      }
    }
  },
  "cells": [
    {
      "cell_type": "markdown",
      "metadata": {
        "id": "view-in-github",
        "colab_type": "text"
      },
      "source": [
        "<a href=\"https://colab.research.google.com/github/I-SER-I/CV/blob/master/%D0%9A%D0%BE%D0%BF%D0%B8%D1%8F_%D0%B1%D0%BB%D0%BE%D0%BA%D0%BD%D0%BE%D1%82%D0%B0_%D0%9A%D0%BE%D0%BD%D1%82%D1%80%D0%BE%D0%BB%D1%8C%D0%BD%D0%B0%D1%8F_%D1%80%D0%B0%D0%B1%D0%BE%D1%82%D0%B0_2.ipynb\" target=\"_parent\"><img src=\"https://colab.research.google.com/assets/colab-badge.svg\" alt=\"Open In Colab\"/></a>"
      ]
    },
    {
      "cell_type": "markdown",
      "metadata": {
        "id": "LYKqDli0Lqas"
      },
      "source": [
        "# Рубежная контрольная работа\n",
        "\n",
        "Эту работу выполнять не обязательно. Баллы набранные за работу просуммируются с баллами, которые были набраны за контрольную работу 1 и выставлены как оценка за промежуточную аттестацию \"автоматом\". "
      ]
    },
    {
      "cell_type": "markdown",
      "metadata": {
        "id": "Cdt8kOfu4K3x"
      },
      "source": [
        "Сделайте копию ноутбука\n",
        "\n",
        "Присвойте переменной `v` значение свой табельный номер ИСУ, это нужно для определения вашего варианта. Запустите код в следующей ячейке."
      ]
    },
    {
      "cell_type": "code",
      "metadata": {
        "id": "38Ryn8pjvYqb",
        "colab": {
          "base_uri": "https://localhost:8080/"
        },
        "outputId": "0cc26f3d-ada9-43b1-8f30-358be4da42d1"
      },
      "source": [
        "from datetime import datetime\n",
        "current_datetime = datetime.now()\n",
        "print(current_datetime)\n",
        "v = 263861 # по умолчанию вписан мой номер"
      ],
      "execution_count": null,
      "outputs": [
        {
          "output_type": "stream",
          "text": [
            "2020-12-21 15:15:46.436651\n"
          ],
          "name": "stdout"
        }
      ]
    },
    {
      "cell_type": "markdown",
      "metadata": {
        "id": "RQ94l69V-mjg"
      },
      "source": [
        "#  Описание данных\n",
        "#### Таблица ```transactions.csv```\n",
        "##### Описание\n",
        "Таблица содержит историю транзакций клиентов банка за один год и три месяца.\n",
        "\n",
        "##### Формат данных\n",
        "\n",
        "```\n",
        "customer_id,tr_datetime,mcc_code,tr_type,amount,term_id\n",
        "111111,15 01:40:52,1111,1000,-5224,111111\n",
        "111112,15 15:18:32,3333,2000,-100,11122233\n",
        "...\n",
        "```\n",
        "##### Описание полей\n",
        "\n",
        " - ```customer_id``` — идентификатор клиента;\n",
        " - ```tr_datetime``` — день и время совершения транзакции (дни нумеруются с начала данных);\n",
        " - ```mcc_code``` — mcc-код транзакции;\n",
        " - ```tr_type``` — тип транзакции;\n",
        " - ```amount``` — сумма транзакции в условных единицах со знаком; ```+``` — начисление средств клиенту (приходная транзакция), ```-``` — списание средств (расходная транзакция);\n",
        " - ```term_id``` — идентификатор терминала;\n",
        "\n",
        "\n",
        "#### Таблица ```gender_train.csv```\n",
        "\n",
        "##### Описание\n",
        "Данная таблица содержит информацию по полу для части клиентов, для которых он известен. Для остальных клиентов пол неизвестен.\n",
        "\n",
        "##### Формат данных\n",
        "```\n",
        "customer_id,gender\n",
        "111111,0\n",
        "111112,1\n",
        "...\n",
        "```\n",
        "\n",
        "##### Описание полей\n",
        " - ```customer_id``` — идентификатор клиента;\n",
        " - ```gender``` — пол клиента;\n",
        "\n",
        "### Таблица ```tr_mcc_codes.csv```\n",
        "\n",
        "##### Описание\n",
        "Данная таблица содержит описание mcc-кодов транзакций.\n",
        "\n",
        "##### Формат данных\n",
        "```\n",
        "mcc_code;mcc_description\n",
        "1000;словесное описание mcc-кода 1000\n",
        "2000;словесное описание mcc-кода 2000\n",
        "...\n",
        "```\n",
        "\n",
        "##### Описание полей\n",
        " - ```mcc_code``` – mcc-код транзакции;\n",
        " - ```mcc_description``` — описание mcc-кода транзакции."
      ]
    },
    {
      "cell_type": "markdown",
      "metadata": {
        "id": "W85i4fC7srcf"
      },
      "source": [
        "# Общее задание"
      ]
    },
    {
      "cell_type": "markdown",
      "metadata": {
        "id": "tIXprGNhsvTG"
      },
      "source": [
        "Нужно решить задачу бинарной классификации, предварительно построив признаковое описание объектов на основе нескольких таблиц. \n",
        "\n",
        "Целевая переменная - пол клиента.\n",
        "\n",
        "В качестве модели нужно использовать нейронную сеть, которую нужно строить с помощью `keras` или `torch` на выбор студента."
      ]
    },
    {
      "cell_type": "code",
      "metadata": {
        "colab": {
          "base_uri": "https://localhost:8080/"
        },
        "id": "zRvaijiP5hZi",
        "outputId": "3823a3be-3673-4aa0-8ad1-c3a7672ed1fa"
      },
      "source": [
        "!wget https://www.dropbox.com/s/ipj9x7yxts23t00/gender_train.csv\n",
        "!wget https://www.dropbox.com/s/d0tesyvostk8lvj/tr_mcc_codes.csv\n",
        "!wget https://www.dropbox.com/s/vfgqxzu11mbadhv/transactions.csv"
      ],
      "execution_count": null,
      "outputs": [
        {
          "output_type": "stream",
          "text": [
            "--2020-12-21 15:15:59--  https://www.dropbox.com/s/ipj9x7yxts23t00/gender_train.csv\n",
            "Resolving www.dropbox.com (www.dropbox.com)... 162.125.1.18, 2620:100:6016:18::a27d:112\n",
            "Connecting to www.dropbox.com (www.dropbox.com)|162.125.1.18|:443... connected.\n",
            "HTTP request sent, awaiting response... 301 Moved Permanently\n",
            "Location: /s/raw/ipj9x7yxts23t00/gender_train.csv [following]\n",
            "--2020-12-21 15:15:59--  https://www.dropbox.com/s/raw/ipj9x7yxts23t00/gender_train.csv\n",
            "Reusing existing connection to www.dropbox.com:443.\n",
            "HTTP request sent, awaiting response... 302 Found\n",
            "Location: https://ucbd74e926b9fd4a68e5c91de3e9.dl.dropboxusercontent.com/cd/0/inline/BFfilyXYwBnjlqsotYReVDcHhiQDjsD1SOqXMQUadqJuI1-WF_DH8VtJeDbu06rQXqAiB-e3bNOb1NEviyAwYN4HDmlvKL3HJ67csKmt_gpKQfLVaWajsXD5C8tT9IB3kck/file# [following]\n",
            "--2020-12-21 15:15:59--  https://ucbd74e926b9fd4a68e5c91de3e9.dl.dropboxusercontent.com/cd/0/inline/BFfilyXYwBnjlqsotYReVDcHhiQDjsD1SOqXMQUadqJuI1-WF_DH8VtJeDbu06rQXqAiB-e3bNOb1NEviyAwYN4HDmlvKL3HJ67csKmt_gpKQfLVaWajsXD5C8tT9IB3kck/file\n",
            "Resolving ucbd74e926b9fd4a68e5c91de3e9.dl.dropboxusercontent.com (ucbd74e926b9fd4a68e5c91de3e9.dl.dropboxusercontent.com)... 162.125.1.15, 2620:100:601f:15::a27d:90f\n",
            "Connecting to ucbd74e926b9fd4a68e5c91de3e9.dl.dropboxusercontent.com (ucbd74e926b9fd4a68e5c91de3e9.dl.dropboxusercontent.com)|162.125.1.15|:443... connected.\n",
            "HTTP request sent, awaiting response... 200 OK\n",
            "Length: 99911 (98K) [text/plain]\n",
            "Saving to: ‘gender_train.csv’\n",
            "\n",
            "gender_train.csv    100%[===================>]  97.57K  --.-KB/s    in 0.04s   \n",
            "\n",
            "2020-12-21 15:16:00 (2.54 MB/s) - ‘gender_train.csv’ saved [99911/99911]\n",
            "\n",
            "--2020-12-21 15:16:00--  https://www.dropbox.com/s/d0tesyvostk8lvj/tr_mcc_codes.csv\n",
            "Resolving www.dropbox.com (www.dropbox.com)... 162.125.1.18, 2620:100:6016:18::a27d:112\n",
            "Connecting to www.dropbox.com (www.dropbox.com)|162.125.1.18|:443... connected.\n",
            "HTTP request sent, awaiting response... 301 Moved Permanently\n",
            "Location: /s/raw/d0tesyvostk8lvj/tr_mcc_codes.csv [following]\n",
            "--2020-12-21 15:16:00--  https://www.dropbox.com/s/raw/d0tesyvostk8lvj/tr_mcc_codes.csv\n",
            "Reusing existing connection to www.dropbox.com:443.\n",
            "HTTP request sent, awaiting response... 302 Found\n",
            "Location: https://ucba833829a60e24e333aa47ef26.dl.dropboxusercontent.com/cd/0/inline/BFeo1Tk7xOWnXcJvOPYGznlz8qC6UUF3VMMBW8ApBNWiX7PDrWeSw5e61xjkDdYAb84-CMetOmb3SZo2co2zhPHtaOM-l-g6NwzvxyxAC_ep7elMiSfS9ZjPq3QWfUmG_Og/file# [following]\n",
            "--2020-12-21 15:16:00--  https://ucba833829a60e24e333aa47ef26.dl.dropboxusercontent.com/cd/0/inline/BFeo1Tk7xOWnXcJvOPYGznlz8qC6UUF3VMMBW8ApBNWiX7PDrWeSw5e61xjkDdYAb84-CMetOmb3SZo2co2zhPHtaOM-l-g6NwzvxyxAC_ep7elMiSfS9ZjPq3QWfUmG_Og/file\n",
            "Resolving ucba833829a60e24e333aa47ef26.dl.dropboxusercontent.com (ucba833829a60e24e333aa47ef26.dl.dropboxusercontent.com)... 162.125.1.15, 2620:100:6016:15::a27d:10f\n",
            "Connecting to ucba833829a60e24e333aa47ef26.dl.dropboxusercontent.com (ucba833829a60e24e333aa47ef26.dl.dropboxusercontent.com)|162.125.1.15|:443... connected.\n",
            "HTTP request sent, awaiting response... 200 OK\n",
            "Length: 14924 (15K) [text/plain]\n",
            "Saving to: ‘tr_mcc_codes.csv’\n",
            "\n",
            "tr_mcc_codes.csv    100%[===================>]  14.57K  --.-KB/s    in 0s      \n",
            "\n",
            "2020-12-21 15:16:00 (374 MB/s) - ‘tr_mcc_codes.csv’ saved [14924/14924]\n",
            "\n",
            "--2020-12-21 15:16:00--  https://www.dropbox.com/s/vfgqxzu11mbadhv/transactions.csv\n",
            "Resolving www.dropbox.com (www.dropbox.com)... 162.125.1.18, 2620:100:6016:18::a27d:112\n",
            "Connecting to www.dropbox.com (www.dropbox.com)|162.125.1.18|:443... connected.\n",
            "HTTP request sent, awaiting response... 301 Moved Permanently\n",
            "Location: /s/raw/vfgqxzu11mbadhv/transactions.csv [following]\n",
            "--2020-12-21 15:16:01--  https://www.dropbox.com/s/raw/vfgqxzu11mbadhv/transactions.csv\n",
            "Reusing existing connection to www.dropbox.com:443.\n",
            "HTTP request sent, awaiting response... 302 Found\n",
            "Location: https://ucc769e5376ba57279e82d0a4fe7.dl.dropboxusercontent.com/cd/0/inline/BFeuYboOsFqwHCMUYUSYAvp6HIzbx4YH09lhlCet207ix4JAd5JZBcUAHpXNiCYJsyaWvRJqTsyFeDjPp5VRZrWJVvSYAynmGSLbN-dmzx9S00T_HZlkOLj7DIMvnCizcNM/file# [following]\n",
            "--2020-12-21 15:16:01--  https://ucc769e5376ba57279e82d0a4fe7.dl.dropboxusercontent.com/cd/0/inline/BFeuYboOsFqwHCMUYUSYAvp6HIzbx4YH09lhlCet207ix4JAd5JZBcUAHpXNiCYJsyaWvRJqTsyFeDjPp5VRZrWJVvSYAynmGSLbN-dmzx9S00T_HZlkOLj7DIMvnCizcNM/file\n",
            "Resolving ucc769e5376ba57279e82d0a4fe7.dl.dropboxusercontent.com (ucc769e5376ba57279e82d0a4fe7.dl.dropboxusercontent.com)... 162.125.1.15, 2620:100:6016:15::a27d:10f\n",
            "Connecting to ucc769e5376ba57279e82d0a4fe7.dl.dropboxusercontent.com (ucc769e5376ba57279e82d0a4fe7.dl.dropboxusercontent.com)|162.125.1.15|:443... connected.\n",
            "HTTP request sent, awaiting response... 200 OK\n",
            "Length: 314490584 (300M) [text/plain]\n",
            "Saving to: ‘transactions.csv’\n",
            "\n",
            "transactions.csv    100%[===================>] 299.92M   135MB/s    in 2.2s    \n",
            "\n",
            "2020-12-21 15:16:03 (135 MB/s) - ‘transactions.csv’ saved [314490584/314490584]\n",
            "\n"
          ],
          "name": "stdout"
        }
      ]
    },
    {
      "cell_type": "markdown",
      "metadata": {
        "id": "G5nnK3tftPvc"
      },
      "source": [
        "# Данные"
      ]
    },
    {
      "cell_type": "markdown",
      "metadata": {
        "id": "y8f3_l3KtSUh"
      },
      "source": [
        "Для всех последующих заданий будем использовать обезличенные транзакционные банковские данные. Для этого считайте в переменные **transactions, tr_mcc_codes и gender_train** из одноимённых таблиц из папки data. Для таблицы transactions используйте только первые n=1000000 строк."
      ]
    },
    {
      "cell_type": "markdown",
      "metadata": {
        "id": "6gIKs_I-tr27"
      },
      "source": [
        "Эти данные уже использовались в работе 2. Описание данных тут: https://drive.google.com/file/d/13sn8orjkoGfO1SVZYByXNmZQYFRfmOdp/view?usp=sharing\n",
        "\n",
        "Скачать данные отсюда: https://drive.google.com/drive/folders/1YAMe7MiTxA-RSSd8Ex2p-L0Dspe6Gs4L?usp=sharing"
      ]
    },
    {
      "cell_type": "markdown",
      "metadata": {
        "id": "OFP_i1F1Lqay"
      },
      "source": [
        "## Задание 1\n",
        "\n",
        "В задании требуется на основе нескольких таблиц с данными сделать признаковое описание объектов. \n",
        "\n",
        "Объектами являются клиенты. Клиенты идентифицируются с помощью `customer_id`, которые есть в таблицах **transactions** и **gender_train**. В качестве призаков нужно использовать даннее по категориям транзаций: ```mcc_code``` — mcc-код транзакции есть в таблицах **transactions** и **tr_mcc_codes**\n"
      ]
    },
    {
      "cell_type": "markdown",
      "metadata": {
        "id": "F57T22yav-gp"
      },
      "source": [
        "Для выбора варианта, запустите код в следующей ячейке\n",
        "\n"
      ]
    },
    {
      "cell_type": "code",
      "metadata": {
        "id": "zFcuNXzcwMbH",
        "colab": {
          "base_uri": "https://localhost:8080/"
        },
        "outputId": "da6dfad7-2a05-4cd4-d34a-3b9cfa0658b3"
      },
      "source": [
        "print ('Список категорий')\n",
        "feature_list = ['Одежда (также нужно искать \"одежды\")', 'Аптеки', 'Ценные бумаги', 'Магазины косметики и Салоны красоты', 'Образовательные услуги (а также школы, университеты)',\n",
        "                'Алименты', 'Прокат автомобилей', 'Автозапчасти, Автошины и Станции техобслуживания (а также СТО)', 'Видеоигры (искать надо по \"видеоигр\")',\n",
        "                'Отели', 'Программирование', 'Ремонт', 'Предсказатели будущего', 'Ювелирные изделия']\n",
        "if (int(str(v)[4]) % 2) == 0:\n",
        "  print (feature_list[::2])\n",
        "else:\n",
        "  print (feature_list[::-2])\n",
        "\n",
        "\n",
        "if (int(str(v)[5]) % 2) == 0:\n",
        "  print ('В качестве значений признаков используйте количество транзакций с тратами и количество транзакций с поступлениями')\n",
        "else: \n",
        "  print ('В качестве значений признаков используйте сумму по транзакциям с тратами и сумму по транзакциям с поступлениями')"
      ],
      "execution_count": null,
      "outputs": [
        {
          "output_type": "stream",
          "text": [
            "Список категорий\n",
            "['Одежда (также нужно искать \"одежды\")', 'Ценные бумаги', 'Образовательные услуги (а также школы, университеты)', 'Прокат автомобилей', 'Видеоигры (искать надо по \"видеоигр\")', 'Программирование', 'Предсказатели будущего']\n",
            "В качестве значений признаков используйте сумму по транзакциям с тратами и сумму по транзакциям с поступлениями\n"
          ],
          "name": "stdout"
        }
      ]
    },
    {
      "cell_type": "markdown",
      "metadata": {
        "id": "xgFGtCDIvU4m"
      },
      "source": [
        "Таким образом получится 14 признаков, то есть семь категорий, каждая из которых даст два значения: траты и поступления. Например, категория \"Одежда\" даёт признаки \"Одежда траты\" и \"Одежда поступления\"."
      ]
    },
    {
      "cell_type": "markdown",
      "metadata": {
        "id": "xGC6oWTyv9S4"
      },
      "source": [
        "Сделайте нормализацию значений признаков так, чтобы все означения менялись от 0 до 1. "
      ]
    },
    {
      "cell_type": "code",
      "metadata": {
        "id": "JOAb9TE06dQs"
      },
      "source": [
        "import pandas as pd\n",
        "import numpy as np\n",
        "import matplotlib.pyplot as plt\n",
        "\n",
        "from tqdm.auto import tqdm"
      ],
      "execution_count": null,
      "outputs": []
    },
    {
      "cell_type": "code",
      "metadata": {
        "id": "zgLjeTfZ6Wdx"
      },
      "source": [
        "tr_mcc_codes = pd.read_csv(filepath_or_buffer = \"tr_mcc_codes.csv\",\n",
        "                          sep = ';')\n",
        "transactions = pd.read_csv(filepath_or_buffer = \"transactions.csv\",\n",
        "                          sep = ',',\n",
        "                           nrows = 1000000)\n",
        "gender_train = pd.read_csv(filepath_or_buffer = \"gender_train.csv\",\n",
        "                          sep = ',')"
      ],
      "execution_count": null,
      "outputs": []
    },
    {
      "cell_type": "code",
      "metadata": {
        "colab": {
          "base_uri": "https://localhost:8080/"
        },
        "id": "vDSCrFDkV9n4",
        "outputId": "352ce0b3-0aea-4433-9c21-079245ab7275"
      },
      "source": [
        "def get_cat(s):\n",
        "  return tr_mcc_codes[tr_mcc_codes['mcc_description'].str.contains(s, case=False)]\n",
        "\n",
        "all_mcc = get_cat('(одежд|ценные бумаги|образова|школ|университ|прокат авто|видеоигр|программирован|предсказатели будущего)')\n",
        "\n",
        "cat_clothes = get_cat('одежд')\n",
        "cat_paper = get_cat('ценные бумаги')\n",
        "cat_edu = get_cat('(образова|школ|университ)')\n",
        "cat_car = get_cat('прокат авто')\n",
        "cat_games = get_cat('видеоигр')\n",
        "cat_prog = get_cat('программирован')\n",
        "cat_future = get_cat('предсказатели будущего')\n",
        "all_mcc\n",
        "\n",
        "arr = [cat_clothes, cat_paper, cat_edu, cat_car, cat_games, cat_prog, cat_future]"
      ],
      "execution_count": null,
      "outputs": [
        {
          "output_type": "stream",
          "text": [
            "/usr/local/lib/python3.6/dist-packages/pandas/core/strings.py:2001: UserWarning: This pattern has match groups. To actually get the groups, use str.extract.\n",
            "  return func(self, *args, **kwargs)\n"
          ],
          "name": "stderr"
        }
      ]
    },
    {
      "cell_type": "code",
      "metadata": {
        "id": "csHKKlCcdSED"
      },
      "source": [
        "transactions = transactions[transactions.mcc_code.isin(all_mcc['mcc_code'].to_list())]"
      ],
      "execution_count": null,
      "outputs": []
    },
    {
      "cell_type": "code",
      "metadata": {
        "colab": {
          "base_uri": "https://localhost:8080/"
        },
        "id": "E070f7CBfx6P",
        "outputId": "c931f6d3-82c7-49b9-a92d-c24d93052f4f"
      },
      "source": [
        "transactions[\"cat\"] = \"none\"\n",
        "i = 0\n",
        "for item in arr:\n",
        "  i += 1\n",
        "  transactions.loc[transactions.mcc_code.isin(item['mcc_code'].to_list()), 'cat'] = i\n",
        "  print(i)"
      ],
      "execution_count": null,
      "outputs": [
        {
          "output_type": "stream",
          "text": [
            "1\n",
            "2\n",
            "3\n",
            "4\n",
            "5\n",
            "6\n",
            "7\n"
          ],
          "name": "stdout"
        }
      ]
    },
    {
      "cell_type": "code",
      "metadata": {
        "colab": {
          "base_uri": "https://localhost:8080/",
          "height": 419
        },
        "id": "7dhOTI6RgDU2",
        "outputId": "be8f06a9-2671-468d-ba5d-cc910f00839c"
      },
      "source": [
        "transactions"
      ],
      "execution_count": null,
      "outputs": [
        {
          "output_type": "execute_result",
          "data": {
            "text/html": [
              "<div>\n",
              "<style scoped>\n",
              "    .dataframe tbody tr th:only-of-type {\n",
              "        vertical-align: middle;\n",
              "    }\n",
              "\n",
              "    .dataframe tbody tr th {\n",
              "        vertical-align: top;\n",
              "    }\n",
              "\n",
              "    .dataframe thead th {\n",
              "        text-align: right;\n",
              "    }\n",
              "</style>\n",
              "<table border=\"1\" class=\"dataframe\">\n",
              "  <thead>\n",
              "    <tr style=\"text-align: right;\">\n",
              "      <th></th>\n",
              "      <th>customer_id</th>\n",
              "      <th>tr_datetime</th>\n",
              "      <th>mcc_code</th>\n",
              "      <th>tr_type</th>\n",
              "      <th>amount</th>\n",
              "      <th>term_id</th>\n",
              "      <th>cat</th>\n",
              "    </tr>\n",
              "  </thead>\n",
              "  <tbody>\n",
              "    <tr>\n",
              "      <th>828</th>\n",
              "      <td>39026145</td>\n",
              "      <td>372 08:45:27</td>\n",
              "      <td>5621</td>\n",
              "      <td>1010</td>\n",
              "      <td>-31442.82</td>\n",
              "      <td>097179</td>\n",
              "      <td>1</td>\n",
              "    </tr>\n",
              "    <tr>\n",
              "      <th>829</th>\n",
              "      <td>39026145</td>\n",
              "      <td>372 08:48:29</td>\n",
              "      <td>5621</td>\n",
              "      <td>1010</td>\n",
              "      <td>-11229.58</td>\n",
              "      <td>097179</td>\n",
              "      <td>1</td>\n",
              "    </tr>\n",
              "    <tr>\n",
              "      <th>1109</th>\n",
              "      <td>52220754</td>\n",
              "      <td>38 16:48:36</td>\n",
              "      <td>5691</td>\n",
              "      <td>1010</td>\n",
              "      <td>-68433.05</td>\n",
              "      <td>NaN</td>\n",
              "      <td>1</td>\n",
              "    </tr>\n",
              "    <tr>\n",
              "      <th>1307</th>\n",
              "      <td>52220754</td>\n",
              "      <td>142 08:37:33</td>\n",
              "      <td>5943</td>\n",
              "      <td>1110</td>\n",
              "      <td>-1482.30</td>\n",
              "      <td>NaN</td>\n",
              "      <td>3</td>\n",
              "    </tr>\n",
              "    <tr>\n",
              "      <th>1402</th>\n",
              "      <td>52220754</td>\n",
              "      <td>167 09:39:41</td>\n",
              "      <td>5943</td>\n",
              "      <td>1010</td>\n",
              "      <td>-2001.56</td>\n",
              "      <td>NaN</td>\n",
              "      <td>3</td>\n",
              "    </tr>\n",
              "    <tr>\n",
              "      <th>...</th>\n",
              "      <td>...</td>\n",
              "      <td>...</td>\n",
              "      <td>...</td>\n",
              "      <td>...</td>\n",
              "      <td>...</td>\n",
              "      <td>...</td>\n",
              "      <td>...</td>\n",
              "    </tr>\n",
              "    <tr>\n",
              "      <th>998285</th>\n",
              "      <td>8942066</td>\n",
              "      <td>436 00:00:00</td>\n",
              "      <td>5691</td>\n",
              "      <td>1110</td>\n",
              "      <td>-1437.39</td>\n",
              "      <td>SN271</td>\n",
              "      <td>1</td>\n",
              "    </tr>\n",
              "    <tr>\n",
              "      <th>999808</th>\n",
              "      <td>98801178</td>\n",
              "      <td>26 09:46:26</td>\n",
              "      <td>5641</td>\n",
              "      <td>1010</td>\n",
              "      <td>-30095.27</td>\n",
              "      <td>NaN</td>\n",
              "      <td>1</td>\n",
              "    </tr>\n",
              "    <tr>\n",
              "      <th>999840</th>\n",
              "      <td>98801178</td>\n",
              "      <td>100 00:00:00</td>\n",
              "      <td>5621</td>\n",
              "      <td>1110</td>\n",
              "      <td>-41549.44</td>\n",
              "      <td>NaN</td>\n",
              "      <td>1</td>\n",
              "    </tr>\n",
              "    <tr>\n",
              "      <th>999891</th>\n",
              "      <td>98801178</td>\n",
              "      <td>157 00:00:00</td>\n",
              "      <td>5641</td>\n",
              "      <td>1110</td>\n",
              "      <td>-27624.76</td>\n",
              "      <td>NaN</td>\n",
              "      <td>1</td>\n",
              "    </tr>\n",
              "    <tr>\n",
              "      <th>999980</th>\n",
              "      <td>98801178</td>\n",
              "      <td>253 00:00:00</td>\n",
              "      <td>5691</td>\n",
              "      <td>1110</td>\n",
              "      <td>-15272.23</td>\n",
              "      <td>77076560</td>\n",
              "      <td>1</td>\n",
              "    </tr>\n",
              "  </tbody>\n",
              "</table>\n",
              "<p>15821 rows × 7 columns</p>\n",
              "</div>"
            ],
            "text/plain": [
              "        customer_id   tr_datetime  mcc_code  tr_type    amount   term_id cat\n",
              "828        39026145  372 08:45:27      5621     1010 -31442.82    097179   1\n",
              "829        39026145  372 08:48:29      5621     1010 -11229.58    097179   1\n",
              "1109       52220754   38 16:48:36      5691     1010 -68433.05       NaN   1\n",
              "1307       52220754  142 08:37:33      5943     1110  -1482.30       NaN   3\n",
              "1402       52220754  167 09:39:41      5943     1010  -2001.56       NaN   3\n",
              "...             ...           ...       ...      ...       ...       ...  ..\n",
              "998285      8942066  436 00:00:00      5691     1110  -1437.39     SN271   1\n",
              "999808     98801178   26 09:46:26      5641     1010 -30095.27       NaN   1\n",
              "999840     98801178  100 00:00:00      5621     1110 -41549.44       NaN   1\n",
              "999891     98801178  157 00:00:00      5641     1110 -27624.76       NaN   1\n",
              "999980     98801178  253 00:00:00      5691     1110 -15272.23  77076560   1\n",
              "\n",
              "[15821 rows x 7 columns]"
            ]
          },
          "metadata": {
            "tags": []
          },
          "execution_count": 11
        }
      ]
    },
    {
      "cell_type": "code",
      "metadata": {
        "id": "n0ajeAGymwFr"
      },
      "source": [
        "transactions[\"amount_plus\"] = transactions[transactions['amount'] >= 0]['amount']\n",
        "transactions[\"amount_minus\"] = transactions[transactions['amount'] < 0]['amount']"
      ],
      "execution_count": null,
      "outputs": []
    },
    {
      "cell_type": "code",
      "metadata": {
        "colab": {
          "base_uri": "https://localhost:8080/",
          "height": 450
        },
        "id": "65ARbLBznQpO",
        "outputId": "3cca737c-fd59-48b1-eff3-3060e225509c"
      },
      "source": [
        "z = transactions.merge(gender_train, on='customer_id').groupby(['customer_id', 'cat']).agg({'amount_plus': \"sum\", \"amount_minus\": \"sum\"})\n",
        "z"
      ],
      "execution_count": null,
      "outputs": [
        {
          "output_type": "execute_result",
          "data": {
            "text/html": [
              "<div>\n",
              "<style scoped>\n",
              "    .dataframe tbody tr th:only-of-type {\n",
              "        vertical-align: middle;\n",
              "    }\n",
              "\n",
              "    .dataframe tbody tr th {\n",
              "        vertical-align: top;\n",
              "    }\n",
              "\n",
              "    .dataframe thead th {\n",
              "        text-align: right;\n",
              "    }\n",
              "</style>\n",
              "<table border=\"1\" class=\"dataframe\">\n",
              "  <thead>\n",
              "    <tr style=\"text-align: right;\">\n",
              "      <th></th>\n",
              "      <th></th>\n",
              "      <th>amount_plus</th>\n",
              "      <th>amount_minus</th>\n",
              "    </tr>\n",
              "    <tr>\n",
              "      <th>customer_id</th>\n",
              "      <th>cat</th>\n",
              "      <th></th>\n",
              "      <th></th>\n",
              "    </tr>\n",
              "  </thead>\n",
              "  <tbody>\n",
              "    <tr>\n",
              "      <th rowspan=\"2\" valign=\"top\">115617</th>\n",
              "      <th>1</th>\n",
              "      <td>0.0</td>\n",
              "      <td>-1576543.03</td>\n",
              "    </tr>\n",
              "    <tr>\n",
              "      <th>3</th>\n",
              "      <td>0.0</td>\n",
              "      <td>-23469.82</td>\n",
              "    </tr>\n",
              "    <tr>\n",
              "      <th>117556</th>\n",
              "      <th>1</th>\n",
              "      <td>0.0</td>\n",
              "      <td>-15575.43</td>\n",
              "    </tr>\n",
              "    <tr>\n",
              "      <th>189257</th>\n",
              "      <th>1</th>\n",
              "      <td>0.0</td>\n",
              "      <td>-387672.92</td>\n",
              "    </tr>\n",
              "    <tr>\n",
              "      <th>293048</th>\n",
              "      <th>1</th>\n",
              "      <td>0.0</td>\n",
              "      <td>-313597.23</td>\n",
              "    </tr>\n",
              "    <tr>\n",
              "      <th>...</th>\n",
              "      <th>...</th>\n",
              "      <td>...</td>\n",
              "      <td>...</td>\n",
              "    </tr>\n",
              "    <tr>\n",
              "      <th>99302313</th>\n",
              "      <th>1</th>\n",
              "      <td>0.0</td>\n",
              "      <td>-141492.70</td>\n",
              "    </tr>\n",
              "    <tr>\n",
              "      <th>99412328</th>\n",
              "      <th>1</th>\n",
              "      <td>0.0</td>\n",
              "      <td>-279405.40</td>\n",
              "    </tr>\n",
              "    <tr>\n",
              "      <th>99683064</th>\n",
              "      <th>1</th>\n",
              "      <td>0.0</td>\n",
              "      <td>-7636.11</td>\n",
              "    </tr>\n",
              "    <tr>\n",
              "      <th>99717689</th>\n",
              "      <th>1</th>\n",
              "      <td>0.0</td>\n",
              "      <td>-796199.60</td>\n",
              "    </tr>\n",
              "    <tr>\n",
              "      <th>99999680</th>\n",
              "      <th>1</th>\n",
              "      <td>0.0</td>\n",
              "      <td>-30319.86</td>\n",
              "    </tr>\n",
              "  </tbody>\n",
              "</table>\n",
              "<p>1011 rows × 2 columns</p>\n",
              "</div>"
            ],
            "text/plain": [
              "                 amount_plus  amount_minus\n",
              "customer_id cat                           \n",
              "115617      1            0.0   -1576543.03\n",
              "            3            0.0     -23469.82\n",
              "117556      1            0.0     -15575.43\n",
              "189257      1            0.0    -387672.92\n",
              "293048      1            0.0    -313597.23\n",
              "...                      ...           ...\n",
              "99302313    1            0.0    -141492.70\n",
              "99412328    1            0.0    -279405.40\n",
              "99683064    1            0.0      -7636.11\n",
              "99717689    1            0.0    -796199.60\n",
              "99999680    1            0.0     -30319.86\n",
              "\n",
              "[1011 rows x 2 columns]"
            ]
          },
          "metadata": {
            "tags": []
          },
          "execution_count": 13
        }
      ]
    },
    {
      "cell_type": "code",
      "metadata": {
        "id": "pxNIFJaduOUq"
      },
      "source": [
        "new_df = dict()\n",
        "\n",
        "for row in z.iterrows():\n",
        "  key = row[0]\n",
        "  value = row[1]\n",
        "  customer_id = key[0]\n",
        "  cat = key[1]\n",
        "  amount_plus = value['amount_plus']\n",
        "  amount_minus = value['amount_minus']\n",
        "  \n",
        "  if customer_id not in new_df:\n",
        "    new_df[customer_id] = {\n",
        "        **{f'amount_plus_{i}': 0.0 for i in range(1, 8, 1)}, \n",
        "        **{f'amount_minus_{i}': 0.0 for i in range(1, 8, 1)}\n",
        "    }\n",
        "\n",
        "  new_df[customer_id][f'amount_plus_{cat}'] = amount_plus\n",
        "  new_df[customer_id][f'amount_minus_{cat}'] = amount_minus"
      ],
      "execution_count": null,
      "outputs": []
    },
    {
      "cell_type": "code",
      "metadata": {
        "colab": {
          "base_uri": "https://localhost:8080/",
          "height": 439
        },
        "id": "LQfUKguxwvVB",
        "outputId": "9cb0e918-6b41-42af-e660-96cfbf1fd9a2"
      },
      "source": [
        "df = pd.DataFrame.from_dict(new_df, orient='index')\n",
        "df"
      ],
      "execution_count": null,
      "outputs": [
        {
          "output_type": "execute_result",
          "data": {
            "text/html": [
              "<div>\n",
              "<style scoped>\n",
              "    .dataframe tbody tr th:only-of-type {\n",
              "        vertical-align: middle;\n",
              "    }\n",
              "\n",
              "    .dataframe tbody tr th {\n",
              "        vertical-align: top;\n",
              "    }\n",
              "\n",
              "    .dataframe thead th {\n",
              "        text-align: right;\n",
              "    }\n",
              "</style>\n",
              "<table border=\"1\" class=\"dataframe\">\n",
              "  <thead>\n",
              "    <tr style=\"text-align: right;\">\n",
              "      <th></th>\n",
              "      <th>amount_plus_1</th>\n",
              "      <th>amount_plus_2</th>\n",
              "      <th>amount_plus_3</th>\n",
              "      <th>amount_plus_4</th>\n",
              "      <th>amount_plus_5</th>\n",
              "      <th>amount_plus_6</th>\n",
              "      <th>amount_plus_7</th>\n",
              "      <th>amount_minus_1</th>\n",
              "      <th>amount_minus_2</th>\n",
              "      <th>amount_minus_3</th>\n",
              "      <th>amount_minus_4</th>\n",
              "      <th>amount_minus_5</th>\n",
              "      <th>amount_minus_6</th>\n",
              "      <th>amount_minus_7</th>\n",
              "    </tr>\n",
              "  </thead>\n",
              "  <tbody>\n",
              "    <tr>\n",
              "      <th>115617</th>\n",
              "      <td>0.0</td>\n",
              "      <td>0.0</td>\n",
              "      <td>0.0</td>\n",
              "      <td>0.0</td>\n",
              "      <td>0.0</td>\n",
              "      <td>0.0</td>\n",
              "      <td>0.0</td>\n",
              "      <td>-1576543.03</td>\n",
              "      <td>0.0</td>\n",
              "      <td>-23469.82</td>\n",
              "      <td>0.0</td>\n",
              "      <td>0.0</td>\n",
              "      <td>0.0</td>\n",
              "      <td>0.0</td>\n",
              "    </tr>\n",
              "    <tr>\n",
              "      <th>117556</th>\n",
              "      <td>0.0</td>\n",
              "      <td>0.0</td>\n",
              "      <td>0.0</td>\n",
              "      <td>0.0</td>\n",
              "      <td>0.0</td>\n",
              "      <td>0.0</td>\n",
              "      <td>0.0</td>\n",
              "      <td>-15575.43</td>\n",
              "      <td>0.0</td>\n",
              "      <td>0.00</td>\n",
              "      <td>0.0</td>\n",
              "      <td>0.0</td>\n",
              "      <td>0.0</td>\n",
              "      <td>0.0</td>\n",
              "    </tr>\n",
              "    <tr>\n",
              "      <th>189257</th>\n",
              "      <td>0.0</td>\n",
              "      <td>0.0</td>\n",
              "      <td>0.0</td>\n",
              "      <td>0.0</td>\n",
              "      <td>0.0</td>\n",
              "      <td>0.0</td>\n",
              "      <td>0.0</td>\n",
              "      <td>-387672.92</td>\n",
              "      <td>0.0</td>\n",
              "      <td>0.00</td>\n",
              "      <td>0.0</td>\n",
              "      <td>0.0</td>\n",
              "      <td>0.0</td>\n",
              "      <td>0.0</td>\n",
              "    </tr>\n",
              "    <tr>\n",
              "      <th>293048</th>\n",
              "      <td>0.0</td>\n",
              "      <td>0.0</td>\n",
              "      <td>0.0</td>\n",
              "      <td>0.0</td>\n",
              "      <td>0.0</td>\n",
              "      <td>0.0</td>\n",
              "      <td>0.0</td>\n",
              "      <td>-313597.23</td>\n",
              "      <td>0.0</td>\n",
              "      <td>0.00</td>\n",
              "      <td>0.0</td>\n",
              "      <td>0.0</td>\n",
              "      <td>0.0</td>\n",
              "      <td>0.0</td>\n",
              "    </tr>\n",
              "    <tr>\n",
              "      <th>361458</th>\n",
              "      <td>0.0</td>\n",
              "      <td>0.0</td>\n",
              "      <td>0.0</td>\n",
              "      <td>0.0</td>\n",
              "      <td>0.0</td>\n",
              "      <td>0.0</td>\n",
              "      <td>0.0</td>\n",
              "      <td>-291452.49</td>\n",
              "      <td>0.0</td>\n",
              "      <td>0.00</td>\n",
              "      <td>0.0</td>\n",
              "      <td>0.0</td>\n",
              "      <td>0.0</td>\n",
              "      <td>0.0</td>\n",
              "    </tr>\n",
              "    <tr>\n",
              "      <th>...</th>\n",
              "      <td>...</td>\n",
              "      <td>...</td>\n",
              "      <td>...</td>\n",
              "      <td>...</td>\n",
              "      <td>...</td>\n",
              "      <td>...</td>\n",
              "      <td>...</td>\n",
              "      <td>...</td>\n",
              "      <td>...</td>\n",
              "      <td>...</td>\n",
              "      <td>...</td>\n",
              "      <td>...</td>\n",
              "      <td>...</td>\n",
              "      <td>...</td>\n",
              "    </tr>\n",
              "    <tr>\n",
              "      <th>99302313</th>\n",
              "      <td>0.0</td>\n",
              "      <td>0.0</td>\n",
              "      <td>0.0</td>\n",
              "      <td>0.0</td>\n",
              "      <td>0.0</td>\n",
              "      <td>0.0</td>\n",
              "      <td>0.0</td>\n",
              "      <td>-141492.70</td>\n",
              "      <td>0.0</td>\n",
              "      <td>0.00</td>\n",
              "      <td>0.0</td>\n",
              "      <td>0.0</td>\n",
              "      <td>0.0</td>\n",
              "      <td>0.0</td>\n",
              "    </tr>\n",
              "    <tr>\n",
              "      <th>99412328</th>\n",
              "      <td>0.0</td>\n",
              "      <td>0.0</td>\n",
              "      <td>0.0</td>\n",
              "      <td>0.0</td>\n",
              "      <td>0.0</td>\n",
              "      <td>0.0</td>\n",
              "      <td>0.0</td>\n",
              "      <td>-279405.40</td>\n",
              "      <td>0.0</td>\n",
              "      <td>0.00</td>\n",
              "      <td>0.0</td>\n",
              "      <td>0.0</td>\n",
              "      <td>0.0</td>\n",
              "      <td>0.0</td>\n",
              "    </tr>\n",
              "    <tr>\n",
              "      <th>99683064</th>\n",
              "      <td>0.0</td>\n",
              "      <td>0.0</td>\n",
              "      <td>0.0</td>\n",
              "      <td>0.0</td>\n",
              "      <td>0.0</td>\n",
              "      <td>0.0</td>\n",
              "      <td>0.0</td>\n",
              "      <td>-7636.11</td>\n",
              "      <td>0.0</td>\n",
              "      <td>0.00</td>\n",
              "      <td>0.0</td>\n",
              "      <td>0.0</td>\n",
              "      <td>0.0</td>\n",
              "      <td>0.0</td>\n",
              "    </tr>\n",
              "    <tr>\n",
              "      <th>99717689</th>\n",
              "      <td>0.0</td>\n",
              "      <td>0.0</td>\n",
              "      <td>0.0</td>\n",
              "      <td>0.0</td>\n",
              "      <td>0.0</td>\n",
              "      <td>0.0</td>\n",
              "      <td>0.0</td>\n",
              "      <td>-796199.60</td>\n",
              "      <td>0.0</td>\n",
              "      <td>0.00</td>\n",
              "      <td>0.0</td>\n",
              "      <td>0.0</td>\n",
              "      <td>0.0</td>\n",
              "      <td>0.0</td>\n",
              "    </tr>\n",
              "    <tr>\n",
              "      <th>99999680</th>\n",
              "      <td>0.0</td>\n",
              "      <td>0.0</td>\n",
              "      <td>0.0</td>\n",
              "      <td>0.0</td>\n",
              "      <td>0.0</td>\n",
              "      <td>0.0</td>\n",
              "      <td>0.0</td>\n",
              "      <td>-30319.86</td>\n",
              "      <td>0.0</td>\n",
              "      <td>0.00</td>\n",
              "      <td>0.0</td>\n",
              "      <td>0.0</td>\n",
              "      <td>0.0</td>\n",
              "      <td>0.0</td>\n",
              "    </tr>\n",
              "  </tbody>\n",
              "</table>\n",
              "<p>724 rows × 14 columns</p>\n",
              "</div>"
            ],
            "text/plain": [
              "          amount_plus_1  amount_plus_2  ...  amount_minus_6  amount_minus_7\n",
              "115617              0.0            0.0  ...             0.0             0.0\n",
              "117556              0.0            0.0  ...             0.0             0.0\n",
              "189257              0.0            0.0  ...             0.0             0.0\n",
              "293048              0.0            0.0  ...             0.0             0.0\n",
              "361458              0.0            0.0  ...             0.0             0.0\n",
              "...                 ...            ...  ...             ...             ...\n",
              "99302313            0.0            0.0  ...             0.0             0.0\n",
              "99412328            0.0            0.0  ...             0.0             0.0\n",
              "99683064            0.0            0.0  ...             0.0             0.0\n",
              "99717689            0.0            0.0  ...             0.0             0.0\n",
              "99999680            0.0            0.0  ...             0.0             0.0\n",
              "\n",
              "[724 rows x 14 columns]"
            ]
          },
          "metadata": {
            "tags": []
          },
          "execution_count": 15
        }
      ]
    },
    {
      "cell_type": "code",
      "metadata": {
        "id": "gYNlTysqzEJk"
      },
      "source": [
        "df.index = df.index.rename('customer_id')"
      ],
      "execution_count": null,
      "outputs": []
    },
    {
      "cell_type": "code",
      "metadata": {
        "id": "SOTUU9mvyv4f"
      },
      "source": [
        "full_df = df.merge(gender_train, on='customer_id')"
      ],
      "execution_count": null,
      "outputs": []
    },
    {
      "cell_type": "code",
      "metadata": {
        "colab": {
          "base_uri": "https://localhost:8080/",
          "height": 439
        },
        "id": "9pTpnjX0zU0n",
        "outputId": "bd10a839-81cb-492e-cde4-475cd9fb5819"
      },
      "source": [
        "full_df"
      ],
      "execution_count": null,
      "outputs": [
        {
          "output_type": "execute_result",
          "data": {
            "text/html": [
              "<div>\n",
              "<style scoped>\n",
              "    .dataframe tbody tr th:only-of-type {\n",
              "        vertical-align: middle;\n",
              "    }\n",
              "\n",
              "    .dataframe tbody tr th {\n",
              "        vertical-align: top;\n",
              "    }\n",
              "\n",
              "    .dataframe thead th {\n",
              "        text-align: right;\n",
              "    }\n",
              "</style>\n",
              "<table border=\"1\" class=\"dataframe\">\n",
              "  <thead>\n",
              "    <tr style=\"text-align: right;\">\n",
              "      <th></th>\n",
              "      <th>customer_id</th>\n",
              "      <th>amount_plus_1</th>\n",
              "      <th>amount_plus_2</th>\n",
              "      <th>amount_plus_3</th>\n",
              "      <th>amount_plus_4</th>\n",
              "      <th>amount_plus_5</th>\n",
              "      <th>amount_plus_6</th>\n",
              "      <th>amount_plus_7</th>\n",
              "      <th>amount_minus_1</th>\n",
              "      <th>amount_minus_2</th>\n",
              "      <th>amount_minus_3</th>\n",
              "      <th>amount_minus_4</th>\n",
              "      <th>amount_minus_5</th>\n",
              "      <th>amount_minus_6</th>\n",
              "      <th>amount_minus_7</th>\n",
              "      <th>gender</th>\n",
              "    </tr>\n",
              "  </thead>\n",
              "  <tbody>\n",
              "    <tr>\n",
              "      <th>0</th>\n",
              "      <td>115617</td>\n",
              "      <td>0.0</td>\n",
              "      <td>0.0</td>\n",
              "      <td>0.0</td>\n",
              "      <td>0.0</td>\n",
              "      <td>0.0</td>\n",
              "      <td>0.0</td>\n",
              "      <td>0.0</td>\n",
              "      <td>-1576543.03</td>\n",
              "      <td>0.0</td>\n",
              "      <td>-23469.82</td>\n",
              "      <td>0.0</td>\n",
              "      <td>0.0</td>\n",
              "      <td>0.0</td>\n",
              "      <td>0.0</td>\n",
              "      <td>1</td>\n",
              "    </tr>\n",
              "    <tr>\n",
              "      <th>1</th>\n",
              "      <td>117556</td>\n",
              "      <td>0.0</td>\n",
              "      <td>0.0</td>\n",
              "      <td>0.0</td>\n",
              "      <td>0.0</td>\n",
              "      <td>0.0</td>\n",
              "      <td>0.0</td>\n",
              "      <td>0.0</td>\n",
              "      <td>-15575.43</td>\n",
              "      <td>0.0</td>\n",
              "      <td>0.00</td>\n",
              "      <td>0.0</td>\n",
              "      <td>0.0</td>\n",
              "      <td>0.0</td>\n",
              "      <td>0.0</td>\n",
              "      <td>0</td>\n",
              "    </tr>\n",
              "    <tr>\n",
              "      <th>2</th>\n",
              "      <td>189257</td>\n",
              "      <td>0.0</td>\n",
              "      <td>0.0</td>\n",
              "      <td>0.0</td>\n",
              "      <td>0.0</td>\n",
              "      <td>0.0</td>\n",
              "      <td>0.0</td>\n",
              "      <td>0.0</td>\n",
              "      <td>-387672.92</td>\n",
              "      <td>0.0</td>\n",
              "      <td>0.00</td>\n",
              "      <td>0.0</td>\n",
              "      <td>0.0</td>\n",
              "      <td>0.0</td>\n",
              "      <td>0.0</td>\n",
              "      <td>1</td>\n",
              "    </tr>\n",
              "    <tr>\n",
              "      <th>3</th>\n",
              "      <td>293048</td>\n",
              "      <td>0.0</td>\n",
              "      <td>0.0</td>\n",
              "      <td>0.0</td>\n",
              "      <td>0.0</td>\n",
              "      <td>0.0</td>\n",
              "      <td>0.0</td>\n",
              "      <td>0.0</td>\n",
              "      <td>-313597.23</td>\n",
              "      <td>0.0</td>\n",
              "      <td>0.00</td>\n",
              "      <td>0.0</td>\n",
              "      <td>0.0</td>\n",
              "      <td>0.0</td>\n",
              "      <td>0.0</td>\n",
              "      <td>0</td>\n",
              "    </tr>\n",
              "    <tr>\n",
              "      <th>4</th>\n",
              "      <td>361458</td>\n",
              "      <td>0.0</td>\n",
              "      <td>0.0</td>\n",
              "      <td>0.0</td>\n",
              "      <td>0.0</td>\n",
              "      <td>0.0</td>\n",
              "      <td>0.0</td>\n",
              "      <td>0.0</td>\n",
              "      <td>-291452.49</td>\n",
              "      <td>0.0</td>\n",
              "      <td>0.00</td>\n",
              "      <td>0.0</td>\n",
              "      <td>0.0</td>\n",
              "      <td>0.0</td>\n",
              "      <td>0.0</td>\n",
              "      <td>1</td>\n",
              "    </tr>\n",
              "    <tr>\n",
              "      <th>...</th>\n",
              "      <td>...</td>\n",
              "      <td>...</td>\n",
              "      <td>...</td>\n",
              "      <td>...</td>\n",
              "      <td>...</td>\n",
              "      <td>...</td>\n",
              "      <td>...</td>\n",
              "      <td>...</td>\n",
              "      <td>...</td>\n",
              "      <td>...</td>\n",
              "      <td>...</td>\n",
              "      <td>...</td>\n",
              "      <td>...</td>\n",
              "      <td>...</td>\n",
              "      <td>...</td>\n",
              "      <td>...</td>\n",
              "    </tr>\n",
              "    <tr>\n",
              "      <th>719</th>\n",
              "      <td>99302313</td>\n",
              "      <td>0.0</td>\n",
              "      <td>0.0</td>\n",
              "      <td>0.0</td>\n",
              "      <td>0.0</td>\n",
              "      <td>0.0</td>\n",
              "      <td>0.0</td>\n",
              "      <td>0.0</td>\n",
              "      <td>-141492.70</td>\n",
              "      <td>0.0</td>\n",
              "      <td>0.00</td>\n",
              "      <td>0.0</td>\n",
              "      <td>0.0</td>\n",
              "      <td>0.0</td>\n",
              "      <td>0.0</td>\n",
              "      <td>1</td>\n",
              "    </tr>\n",
              "    <tr>\n",
              "      <th>720</th>\n",
              "      <td>99412328</td>\n",
              "      <td>0.0</td>\n",
              "      <td>0.0</td>\n",
              "      <td>0.0</td>\n",
              "      <td>0.0</td>\n",
              "      <td>0.0</td>\n",
              "      <td>0.0</td>\n",
              "      <td>0.0</td>\n",
              "      <td>-279405.40</td>\n",
              "      <td>0.0</td>\n",
              "      <td>0.00</td>\n",
              "      <td>0.0</td>\n",
              "      <td>0.0</td>\n",
              "      <td>0.0</td>\n",
              "      <td>0.0</td>\n",
              "      <td>0</td>\n",
              "    </tr>\n",
              "    <tr>\n",
              "      <th>721</th>\n",
              "      <td>99683064</td>\n",
              "      <td>0.0</td>\n",
              "      <td>0.0</td>\n",
              "      <td>0.0</td>\n",
              "      <td>0.0</td>\n",
              "      <td>0.0</td>\n",
              "      <td>0.0</td>\n",
              "      <td>0.0</td>\n",
              "      <td>-7636.11</td>\n",
              "      <td>0.0</td>\n",
              "      <td>0.00</td>\n",
              "      <td>0.0</td>\n",
              "      <td>0.0</td>\n",
              "      <td>0.0</td>\n",
              "      <td>0.0</td>\n",
              "      <td>0</td>\n",
              "    </tr>\n",
              "    <tr>\n",
              "      <th>722</th>\n",
              "      <td>99717689</td>\n",
              "      <td>0.0</td>\n",
              "      <td>0.0</td>\n",
              "      <td>0.0</td>\n",
              "      <td>0.0</td>\n",
              "      <td>0.0</td>\n",
              "      <td>0.0</td>\n",
              "      <td>0.0</td>\n",
              "      <td>-796199.60</td>\n",
              "      <td>0.0</td>\n",
              "      <td>0.00</td>\n",
              "      <td>0.0</td>\n",
              "      <td>0.0</td>\n",
              "      <td>0.0</td>\n",
              "      <td>0.0</td>\n",
              "      <td>1</td>\n",
              "    </tr>\n",
              "    <tr>\n",
              "      <th>723</th>\n",
              "      <td>99999680</td>\n",
              "      <td>0.0</td>\n",
              "      <td>0.0</td>\n",
              "      <td>0.0</td>\n",
              "      <td>0.0</td>\n",
              "      <td>0.0</td>\n",
              "      <td>0.0</td>\n",
              "      <td>0.0</td>\n",
              "      <td>-30319.86</td>\n",
              "      <td>0.0</td>\n",
              "      <td>0.00</td>\n",
              "      <td>0.0</td>\n",
              "      <td>0.0</td>\n",
              "      <td>0.0</td>\n",
              "      <td>0.0</td>\n",
              "      <td>1</td>\n",
              "    </tr>\n",
              "  </tbody>\n",
              "</table>\n",
              "<p>724 rows × 16 columns</p>\n",
              "</div>"
            ],
            "text/plain": [
              "     customer_id  amount_plus_1  ...  amount_minus_7  gender\n",
              "0         115617            0.0  ...             0.0       1\n",
              "1         117556            0.0  ...             0.0       0\n",
              "2         189257            0.0  ...             0.0       1\n",
              "3         293048            0.0  ...             0.0       0\n",
              "4         361458            0.0  ...             0.0       1\n",
              "..           ...            ...  ...             ...     ...\n",
              "719     99302313            0.0  ...             0.0       1\n",
              "720     99412328            0.0  ...             0.0       0\n",
              "721     99683064            0.0  ...             0.0       0\n",
              "722     99717689            0.0  ...             0.0       1\n",
              "723     99999680            0.0  ...             0.0       1\n",
              "\n",
              "[724 rows x 16 columns]"
            ]
          },
          "metadata": {
            "tags": []
          },
          "execution_count": 121
        }
      ]
    },
    {
      "cell_type": "code",
      "metadata": {
        "id": "DEY89ZEqzYY7"
      },
      "source": [
        "from sklearn.preprocessing import StandardScaler\n",
        "from sklearn.model_selection import train_test_split"
      ],
      "execution_count": null,
      "outputs": []
    },
    {
      "cell_type": "code",
      "metadata": {
        "id": "jIlU7ao1zf0D"
      },
      "source": [
        "features = ['amount_plus_1', 'amount_plus_2', 'amount_plus_3',\n",
        "       'amount_plus_4', 'amount_plus_5', 'amount_plus_6', 'amount_plus_7',\n",
        "       'amount_minus_1', 'amount_minus_2', 'amount_minus_3', 'amount_minus_4',\n",
        "       'amount_minus_5', 'amount_minus_6', 'amount_minus_7']\n",
        "scaler = StandardScaler()\n",
        "\n",
        "scaler.fit(full_df[features])\n",
        "# X = scaler.transform(full_df[features])\n",
        "X = full_df[features].values\n",
        "y = full_df['gender']"
      ],
      "execution_count": null,
      "outputs": []
    },
    {
      "cell_type": "code",
      "metadata": {
        "colab": {
          "base_uri": "https://localhost:8080/"
        },
        "id": "HG2fZnjkz53m",
        "outputId": "c59b5672-cff0-433f-d39e-a1a2a34044a3"
      },
      "source": [
        "X.shape, y.shape"
      ],
      "execution_count": null,
      "outputs": [
        {
          "output_type": "execute_result",
          "data": {
            "text/plain": [
              "((724, 14), (724,))"
            ]
          },
          "metadata": {
            "tags": []
          },
          "execution_count": 251
        }
      ]
    },
    {
      "cell_type": "code",
      "metadata": {
        "id": "Q44yyNP6z9vZ"
      },
      "source": [
        "X_train, X_test, y_train, y_test = train_test_split(X, y, train_size=0.9, stratify=y)"
      ],
      "execution_count": null,
      "outputs": []
    },
    {
      "cell_type": "markdown",
      "metadata": {
        "id": "hiXRvXuACblp"
      },
      "source": [
        "# Задание 2"
      ]
    },
    {
      "cell_type": "markdown",
      "metadata": {
        "id": "boe6yhyBJL_q"
      },
      "source": [
        "### Мои параметры\n",
        "* количество эпох: 10000\n",
        "* скорость обучения: 0.1\n",
        "* функция активация: ReLU"
      ]
    },
    {
      "cell_type": "code",
      "metadata": {
        "id": "k2gUYIaV0blu"
      },
      "source": [
        "import torch\n",
        "\n",
        "X_train_tensor = torch.tensor(X_train.astype(np.float32))\n",
        "y_train_tensor = torch.tensor(y_train.values.astype(np.int64))\n",
        "train_ds = torch.utils.data.TensorDataset(X_train_tensor, y_train_tensor) \n",
        "\n",
        "X_test_tensor = torch.tensor(X_test.astype(np.float32))\n",
        "y_test_tensor = torch.tensor(y_test.values.astype(np.int64))\n",
        "test_ds = torch.utils.data.TensorDataset(X_test_tensor, y_test_tensor) "
      ],
      "execution_count": null,
      "outputs": []
    },
    {
      "cell_type": "code",
      "metadata": {
        "colab": {
          "base_uri": "https://localhost:8080/"
        },
        "id": "6gjOH5BZ2jhr",
        "outputId": "61bbf298-a461-4945-84d9-6c839e0afe0c"
      },
      "source": [
        "len(train_ds), len(test_ds)"
      ],
      "execution_count": null,
      "outputs": [
        {
          "output_type": "execute_result",
          "data": {
            "text/plain": [
              "(651, 73)"
            ]
          },
          "metadata": {
            "tags": []
          },
          "execution_count": 256
        }
      ]
    },
    {
      "cell_type": "code",
      "metadata": {
        "id": "wtRcAWQb0rf4"
      },
      "source": [
        "train_loader = torch.utils.data.DataLoader(train_ds, batch_size=579, shuffle=True)\n",
        "test_loader = torch.utils.data.DataLoader(test_ds, batch_size=145)"
      ],
      "execution_count": null,
      "outputs": []
    },
    {
      "cell_type": "code",
      "metadata": {
        "colab": {
          "base_uri": "https://localhost:8080/"
        },
        "id": "YRGQtvE420Bq",
        "outputId": "f8b8fc18-3175-4d10-d029-240fe5750784"
      },
      "source": [
        "import torch.nn as nn\n",
        "\n",
        "model = nn.Sequential(\n",
        "    nn.Linear(14, 64),\n",
        "    nn.BatchNorm1d(64),\n",
        "    nn.ReLU(),\n",
        "    # nn.Dropout(p=0.2),\n",
        "    nn.Linear(64, 64),\n",
        "    nn.BatchNorm1d(64),\n",
        "    nn.ReLU(),\n",
        "    # nn.Dropout(p=0.2),\n",
        "    nn.Linear(64, 2),\n",
        "    # nn.Sigmoid()\n",
        ")\n",
        "\n",
        "# model.cuda()\n",
        "model.train()"
      ],
      "execution_count": null,
      "outputs": [
        {
          "output_type": "execute_result",
          "data": {
            "text/plain": [
              "Sequential(\n",
              "  (0): Linear(in_features=14, out_features=64, bias=True)\n",
              "  (1): BatchNorm1d(64, eps=1e-05, momentum=0.1, affine=True, track_running_stats=True)\n",
              "  (2): ReLU()\n",
              "  (3): Linear(in_features=64, out_features=64, bias=True)\n",
              "  (4): BatchNorm1d(64, eps=1e-05, momentum=0.1, affine=True, track_running_stats=True)\n",
              "  (5): ReLU()\n",
              "  (6): Linear(in_features=64, out_features=2, bias=True)\n",
              ")"
            ]
          },
          "metadata": {
            "tags": []
          },
          "execution_count": 258
        }
      ]
    },
    {
      "cell_type": "code",
      "metadata": {
        "id": "aJieLB6J_P1h"
      },
      "source": [
        "for p in model.parameters():\n",
        "  p.requires_grad = True"
      ],
      "execution_count": null,
      "outputs": []
    },
    {
      "cell_type": "code",
      "metadata": {
        "id": "E7DSXmgV-O8n"
      },
      "source": [
        "from torch.autograd import Variable\n",
        "import torch.nn.functional as F\n",
        "\n",
        "\n",
        "def compute_loss(X_batch, y_batch):\n",
        "    X_batch = Variable(torch.FloatTensor(X_batch)).cuda()\n",
        "    y_batch = Variable(torch.LongTensor(y_batch)).cuda()\n",
        "    logits = model.cuda()(X_batch)\n",
        "    return F.cross_entropy(logits, y_batch).mean()"
      ],
      "execution_count": null,
      "outputs": []
    },
    {
      "cell_type": "code",
      "metadata": {
        "colab": {
          "base_uri": "https://localhost:8080/",
          "height": 318,
          "referenced_widgets": [
            "881464b057db4204be3a78503cdb47a4",
            "e7470dfc469c4748a5ed9f8970738a2e",
            "dda1c0c9822d43a085d91c9378e490aa",
            "1f05864983334474a627e677bb382af0",
            "716a32f1824a4691afeda5926d808e3c",
            "06899cd4a9cf4bd5bed1c67176b6d318",
            "0334edd693c5406aa99938ec88170ede",
            "6bffc27ac95740e6aa4de24b919cc56c"
          ]
        },
        "id": "7TAdERqm060d",
        "outputId": "d9b233db-96fb-4910-9eb1-0c6b723f8dde"
      },
      "source": [
        "EPOCHS = 10000\n",
        "LR = 0.1\n",
        "\n",
        "loss = nn.CrossEntropyLoss()\n",
        "opt = torch.optim.SGD(model.parameters(), lr=LR)\n",
        "\n",
        "loss_values = []\n",
        "\n",
        "for epoch in tqdm(range(EPOCHS)):\n",
        "  \n",
        "  for batch in train_loader:\n",
        "\n",
        "    loss_val = compute_loss(batch[0], batch[1])\n",
        "    loss_val.backward()\n",
        "\n",
        "    opt.step()\n",
        "    opt.zero_grad()\n",
        "\n",
        "    loss_values.append(loss_val.detach().cpu().item())\n",
        "\n",
        "\n",
        "plt.plot(loss_values)\n",
        "plt.show()"
      ],
      "execution_count": null,
      "outputs": [
        {
          "output_type": "display_data",
          "data": {
            "application/vnd.jupyter.widget-view+json": {
              "model_id": "881464b057db4204be3a78503cdb47a4",
              "version_minor": 0,
              "version_major": 2
            },
            "text/plain": [
              "HBox(children=(FloatProgress(value=0.0, max=10000.0), HTML(value='')))"
            ]
          },
          "metadata": {
            "tags": []
          }
        },
        {
          "output_type": "stream",
          "text": [
            "\n"
          ],
          "name": "stdout"
        },
        {
          "output_type": "display_data",
          "data": {
            "image/png": "[encoded data removed]",
            "text/plain": [
              "<Figure size 432x288 with 1 Axes>"
            ]
          },
          "metadata": {
            "tags": [],
            "needs_background": "light"
          }
        }
      ]
    },
    {
      "cell_type": "markdown",
      "metadata": {
        "id": "vjOJsBFsDOll"
      },
      "source": [
        "# Задание 3"
      ]
    },
    {
      "cell_type": "markdown",
      "metadata": {
        "id": "FXHBaQF1CnuI"
      },
      "source": [
        "\n",
        "Проверить качество модели не менее чем на трёх разных метриках. Вывести эти значения."
      ]
    },
    {
      "cell_type": "markdown",
      "metadata": {
        "id": "jnuaWWNID2O8"
      },
      "source": [
        "После завершения контрольной работы, дайте ссылку на colab в отдельном followup в своей теме на Piazza. Дайте разрешение на его просмотр.\n",
        "\n",
        "Не забудьте запустить код в последней ячейке для контроля времени выполнения."
      ]
    },
    {
      "cell_type": "code",
      "metadata": {
        "colab": {
          "base_uri": "https://localhost:8080/"
        },
        "id": "9k6AFLkWBXGJ",
        "outputId": "c04db01f-b677-4fd6-e06d-805b2f41cd20"
      },
      "source": [
        "from sklearn.metrics import accuracy_score, classification_report\n",
        "\n",
        "model.eval()\n",
        "\n",
        "with torch.no_grad():\n",
        "  for batch in test_loader:\n",
        "\n",
        "      y_pred = model(batch[0].cuda())\n",
        "\n",
        "      y_hat = torch.argmax(y_pred, dim=1).detach().cpu()\n",
        "      \n",
        "      print('Acc:', accuracy_score(y_hat, batch[1]))\n",
        "      print(classification_report(y_hat, batch[1]))"
      ],
      "execution_count": null,
      "outputs": [
        {
          "output_type": "stream",
          "text": [
            "Acc: 0.6027397260273972\n",
            "              precision    recall  f1-score   support\n",
            "\n",
            "           0       0.88      0.61      0.72        61\n",
            "           1       0.23      0.58      0.33        12\n",
            "\n",
            "    accuracy                           0.60        73\n",
            "   macro avg       0.55      0.59      0.52        73\n",
            "weighted avg       0.77      0.60      0.65        73\n",
            "\n"
          ],
          "name": "stdout"
        }
      ]
    },
    {
      "cell_type": "code",
      "metadata": {
        "id": "fJ1wmMO4D8jN",
        "colab": {
          "base_uri": "https://localhost:8080/"
        },
        "outputId": "5d02d86b-1d75-45f6-edb6-ba79f75ae904"
      },
      "source": [
        "current_datetime = datetime.now()\n",
        "print(current_datetime)"
      ],
      "execution_count": null,
      "outputs": [
        {
          "output_type": "stream",
          "text": [
            "2020-12-21 16:26:14.731897\n"
          ],
          "name": "stdout"
        }
      ]
    }
  ]
}